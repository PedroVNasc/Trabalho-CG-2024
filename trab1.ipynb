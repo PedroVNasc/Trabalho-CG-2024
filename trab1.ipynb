{
 "cells": [
  {
   "cell_type": "markdown",
   "metadata": {},
   "source": [
    "# Setup"
   ]
  },
  {
   "cell_type": "markdown",
   "metadata": {},
   "source": [
    "### Libraries"
   ]
  },
  {
   "cell_type": "code",
   "execution_count": 45,
   "metadata": {
    "ExecuteTime": {
     "end_time": "2024-05-12T15:53:14.993557Z",
     "start_time": "2024-05-12T15:53:14.986556Z"
    }
   },
   "outputs": [],
   "source": [
    "import glfw\n",
    "from OpenGL.GL import *\n",
    "import OpenGL.GL.shaders\n",
    "import numpy as np\n",
    "import glm\n",
    "import math\n",
    "from PIL import Image"
   ]
  },
  {
   "cell_type": "markdown",
   "metadata": {},
   "source": [
    "### Janela"
   ]
  },
  {
   "cell_type": "code",
   "execution_count": 46,
   "metadata": {
    "ExecuteTime": {
     "end_time": "2024-05-12T15:53:15.140564Z",
     "start_time": "2024-05-12T15:53:14.998183Z"
    }
   },
   "outputs": [],
   "source": [
    "glfw.init()\n",
    "glfw.window_hint(glfw.VISIBLE, glfw.FALSE)\n",
    "altura = 1600\n",
    "largura = 1200\n",
    "window = glfw.create_window(largura, altura, \"Malhas e Texturas\", None, None)\n",
    "glfw.make_context_current(window)\n",
    "glfw.set_input_mode(window, glfw.CURSOR, glfw.CURSOR_DISABLED)"
   ]
  },
  {
   "cell_type": "markdown",
   "metadata": {},
   "source": [
    "### Vertex e Fragment Shaders"
   ]
  },
  {
   "cell_type": "code",
   "execution_count": 47,
   "metadata": {
    "ExecuteTime": {
     "end_time": "2024-05-12T15:53:15.145795Z",
     "start_time": "2024-05-12T15:53:15.142879Z"
    }
   },
   "outputs": [],
   "source": [
    "vertex_code = \"\"\"\n",
    "        attribute vec3 position;\n",
    "        attribute vec2 texture_coord;\n",
    "        varying vec2 out_texture;\n",
    "                \n",
    "        uniform mat4 model;\n",
    "        uniform mat4 view;\n",
    "        uniform mat4 projection;        \n",
    "        \n",
    "        void main(){\n",
    "            gl_Position = projection * view * model * vec4(position,1.0);\n",
    "            out_texture = vec2(texture_coord);\n",
    "        }\n",
    "        \"\"\"\n",
    "\n",
    "fragment_code = \"\"\"\n",
    "        uniform vec4 color;\n",
    "        varying vec2 out_texture;\n",
    "        uniform sampler2D samplerTexture;\n",
    "        \n",
    "        void main(){\n",
    "            vec4 texture = texture2D(samplerTexture, out_texture);\n",
    "            gl_FragColor = texture;\n",
    "        }\n",
    "        \"\"\""
   ]
  },
  {
   "cell_type": "code",
   "execution_count": 48,
   "metadata": {
    "ExecuteTime": {
     "end_time": "2024-05-12T15:53:15.162702Z",
     "start_time": "2024-05-12T15:53:15.148222Z"
    }
   },
   "outputs": [],
   "source": [
    "# Request a program and shader slots from GPU\n",
    "program  = glCreateProgram()\n",
    "vertex   = glCreateShader(GL_VERTEX_SHADER)\n",
    "fragment = glCreateShader(GL_FRAGMENT_SHADER)\n",
    "\n",
    "# Set shaders source\n",
    "glShaderSource(vertex, vertex_code)\n",
    "glShaderSource(fragment, fragment_code)\n",
    "\n",
    "\n",
    "\n",
    "\n",
    "# Compile shaders\n",
    "glCompileShader(vertex)\n",
    "if not glGetShaderiv(vertex, GL_COMPILE_STATUS):\n",
    "    error = glGetShaderInfoLog(vertex).decode()\n",
    "    print(error)\n",
    "    raise RuntimeError(\"Erro de compilacao do Vertex Shader\")\n",
    "\n",
    "\n",
    "glCompileShader(fragment)\n",
    "if not glGetShaderiv(fragment, GL_COMPILE_STATUS):\n",
    "    error = glGetShaderInfoLog(fragment).decode()\n",
    "    print(error)\n",
    "    raise RuntimeError(\"Erro de compilacao do Fragment Shader\")"
   ]
  },
  {
   "cell_type": "code",
   "execution_count": 49,
   "metadata": {
    "ExecuteTime": {
     "end_time": "2024-05-12T15:53:15.170415Z",
     "start_time": "2024-05-12T15:53:15.166179Z"
    }
   },
   "outputs": [],
   "source": [
    "# Attach shader objects to the program\n",
    "glAttachShader(program, vertex)\n",
    "glAttachShader(program, fragment)\n",
    "\n",
    "# Build program\n",
    "glLinkProgram(program)\n",
    "if not glGetProgramiv(program, GL_LINK_STATUS):\n",
    "    print(glGetProgramInfoLog(program))\n",
    "    raise RuntimeError('Linking error')\n",
    "    \n",
    "# Make program the default program\n",
    "glUseProgram(program)"
   ]
  },
  {
   "cell_type": "markdown",
   "metadata": {},
   "source": [
    "# Matriz Model, View, Projection"
   ]
  },
  {
   "cell_type": "code",
   "execution_count": 50,
   "metadata": {
    "ExecuteTime": {
     "end_time": "2024-05-12T15:53:15.183371Z",
     "start_time": "2024-05-12T15:53:15.172293Z"
    }
   },
   "outputs": [],
   "source": [
    "def model(angle, r_x, r_y, r_z, t_x, t_y, t_z, s_x, s_y, s_z):\n",
    "    angle = math.radians(angle)\n",
    "    \n",
    "    matrix_transform = glm.mat4(1.0) # instanciando uma matriz identidade\n",
    "    \n",
    "    # aplicando translacao\n",
    "    matrix_transform = glm.translate(matrix_transform, glm.vec3(t_x, t_y, t_z))    \n",
    "    \n",
    "    # aplicando rotacao\n",
    "    matrix_transform = glm.rotate(matrix_transform, angle, glm.vec3(r_x, r_y, r_z))\n",
    "    \n",
    "    # aplicando escala\n",
    "    matrix_transform = glm.scale(matrix_transform, glm.vec3(s_x, s_y, s_z))\n",
    "    \n",
    "    matrix_transform = np.array(matrix_transform) # pegando a transposta da matriz (glm trabalha com ela invertida)\n",
    "    \n",
    "    return matrix_transform\n",
    "\n",
    "def view():\n",
    "    global cameraPos, cameraFront, cameraUp\n",
    "    mat_view = glm.lookAt(cameraPos, cameraPos + cameraFront, cameraUp);\n",
    "    mat_view = np.array(mat_view)\n",
    "    return mat_view\n",
    "\n",
    "def projection():\n",
    "    global altura, largura, inc_fov, inc_near, inc_far\n",
    "    # perspective parameters: fovy, aspect, near, far\n",
    "    mat_projection = glm.perspective(glm.radians(45.0), largura/altura, 0.1, 1000.0)\n",
    "    mat_projection = np.array(mat_projection)    \n",
    "    return mat_projection"
   ]
  },
  {
   "cell_type": "markdown",
   "metadata": {},
   "source": [
    "# Modelos e Texturas"
   ]
  },
  {
   "cell_type": "code",
   "execution_count": 51,
   "metadata": {
    "ExecuteTime": {
     "end_time": "2024-05-12T15:53:15.199086Z",
     "start_time": "2024-05-12T15:53:15.185421Z"
    }
   },
   "outputs": [],
   "source": [
    "def load_model_from_file(filename):\n",
    "    \"\"\"Loads a Wavefront OBJ file. \"\"\"\n",
    "\n",
    "    objects = {}\n",
    "    vertices = []\n",
    "    texture_coords = []\n",
    "    faces = []\n",
    "\n",
    "    material = None\n",
    "\n",
    "    # abre o arquivo obj para leitura\n",
    "    for line in open(filename, \"r\"): ## para cada linha do arquivo .obj\n",
    "        if line.startswith('#'): continue ## ignora comentarios\n",
    "        values = line.strip().split() # quebra a linha por espaço\n",
    "        if not values: continue\n",
    "\n",
    "        ### recuperando vertices\n",
    "        if values[0] == 'v':\n",
    "            vertices.append(values[1:4])\n",
    "\n",
    "        elif values[0] == 'vn':\n",
    "            pass\n",
    "\n",
    "        ### recuperando coordenadas de textura\n",
    "        elif values[0] == 'vt':\n",
    "            texture_coords.append(values[1:3])\n",
    "\n",
    "        ### recuperando faces \n",
    "        elif values[0] in ('usemtl', 'usemat'):\n",
    "            material = values[1]\n",
    "        elif values[0] == 'f':\n",
    "            face = []\n",
    "            face_texture = []\n",
    "\n",
    "            if len(values[1:]) == 3: # trigs\n",
    "                for v in values[1:]:\n",
    "\n",
    "                    w = v.split('/')\n",
    "                    face.append(int(w[0]))\n",
    "                    if len(w) >= 2 and len(w[1]) > 0:\n",
    "                        face_texture.append(int(w[1]))\n",
    "                    else:\n",
    "                        face_texture.append(0)\n",
    "                    \n",
    "                faces.append((face, face_texture, material))\n",
    "            elif len(values[1:]) == 4: # quads\n",
    "                # print('reading quads')\n",
    "\n",
    "                trig1 = [values[1], values[2], values[3]]\n",
    "                trig2 = [values[3], values[4], values[1]]\n",
    "\n",
    "                for v in trig1:\n",
    "                    w = v.split('/')\n",
    "                    face.append(int(w[0]))\n",
    "                    if len(w) >= 2 and len(w[1]) > 0:\n",
    "                        face_texture.append(int(w[1]))\n",
    "                    else:\n",
    "                        face_texture.append(0)\n",
    "\n",
    "                for v in trig2:\n",
    "                    w = v.split('/')\n",
    "                    face.append(int(w[0]))\n",
    "                    if len(w) >= 2 and len(w[1]) > 0:\n",
    "                        face_texture.append(int(w[1]))\n",
    "                    else:\n",
    "                        face_texture.append(0)\n",
    "               \n",
    "                faces.append((face, face_texture, material))\n",
    "\n",
    "    model = {}\n",
    "    model['vertices'] = vertices\n",
    "    model['texture'] = texture_coords\n",
    "    model['faces'] = faces\n",
    "\n",
    "    return model"
   ]
  },
  {
   "cell_type": "code",
   "execution_count": 52,
   "metadata": {
    "ExecuteTime": {
     "end_time": "2024-05-12T15:53:15.211761Z",
     "start_time": "2024-05-12T15:53:15.201787Z"
    }
   },
   "outputs": [],
   "source": [
    "glHint(GL_LINE_SMOOTH_HINT, GL_DONT_CARE)\n",
    "glEnable( GL_BLEND )\n",
    "glBlendFunc( GL_SRC_ALPHA, GL_ONE_MINUS_SRC_ALPHA )\n",
    "glEnable(GL_LINE_SMOOTH)\n",
    "glEnable(GL_TEXTURE_2D)\n",
    "qtd_texturas = 10\n",
    "textures = glGenTextures(qtd_texturas)\n",
    "\n",
    "def load_texture_from_file(texture_id, img_textura):\n",
    "    glBindTexture(GL_TEXTURE_2D, texture_id)\n",
    "    glTexParameteri(GL_TEXTURE_2D, GL_TEXTURE_WRAP_S, GL_REPEAT)\n",
    "    glTexParameteri(GL_TEXTURE_2D, GL_TEXTURE_WRAP_T, GL_REPEAT)\n",
    "    glTexParameteri(GL_TEXTURE_2D, GL_TEXTURE_MIN_FILTER, GL_LINEAR)\n",
    "    glTexParameteri(GL_TEXTURE_2D, GL_TEXTURE_MAG_FILTER, GL_LINEAR)\n",
    "    img = Image.open(img_textura)\n",
    "    print(img_textura,img.mode)\n",
    "    img_width = img.size[0]\n",
    "    img_height = img.size[1]\n",
    "    image_data = img.convert(\"RGBA\").tobytes(\"raw\", \"RGBA\",0,-1)\n",
    "\n",
    "    glTexImage2D(GL_TEXTURE_2D, 0, GL_RGBA, img_width, img_height, 0, GL_RGBA, GL_UNSIGNED_BYTE, image_data)"
   ]
  },
  {
   "cell_type": "code",
   "execution_count": 53,
   "metadata": {
    "ExecuteTime": {
     "end_time": "2024-05-12T15:53:15.237556Z",
     "start_time": "2024-05-12T15:53:15.214472Z"
    }
   },
   "outputs": [],
   "source": [
    "vertices_list = []    \n",
    "textures_coord_list = []"
   ]
  },
  {
   "cell_type": "code",
   "execution_count": 54,
   "metadata": {
    "ExecuteTime": {
     "end_time": "2024-05-12T15:53:15.256265Z",
     "start_time": "2024-05-12T15:53:15.239114Z"
    }
   },
   "outputs": [],
   "source": [
    "modelo = load_model_from_file('terreno/terreno.obj')\n",
    "\n",
    "### inserindo vertices do modelo no vetor de vertices\n",
    "print('Processando modelo terreno.obj. Vertice inicial:',len(vertices_list))\n",
    "for face in modelo['faces']:\n",
    "    for vertice_id in face[0]:\n",
    "        vertices_list.append( modelo['vertices'][vertice_id-1] )\n",
    "    for texture_id in face[1]:\n",
    "        textures_coord_list.append( modelo['texture'][texture_id-1] )\n",
    "print('Processando modelo terreno.obj. Vertice final:',len(vertices_list))\n",
    "\n",
    "### carregando textura equivalente e definindo um id (buffer): use um id por textura!\n",
    "load_texture_from_file(0,'terreno/terreno.png')"
   ]
  },
  {
   "cell_type": "code",
   "execution_count": 55,
   "metadata": {
    "ExecuteTime": {
     "end_time": "2024-05-12T15:53:15.310104Z",
     "start_time": "2024-05-12T15:53:15.259314Z"
    }
   },
   "outputs": [],
   "source": [
    "modelo = load_model_from_file('skybox/skybox.obj')\n",
    "\n",
    "### inserindo vertices do modelo no vetor de vertices\n",
    "print('Processando modelo sky.obj. Vertice inicial:',len(vertices_list))\n",
    "for face in modelo['faces']:\n",
    "    for vertice_id in face[0]:\n",
    "        vertices_list.append( modelo['vertices'][vertice_id-1] )\n",
    "    for texture_id in face[1]:\n",
    "        textures_coord_list.append( modelo['texture'][texture_id-1] )\n",
    "print('Processando modelo sky.obj. Vertice final:',len(vertices_list))\n",
    "\n",
    "### carregando textura equivalente e definindo um id (buffer): use um id por textura!\n",
    "load_texture_from_file(1,'skybox/skybox.png')"
   ]
  },
  {
   "cell_type": "code",
   "execution_count": 56,
   "metadata": {
    "ExecuteTime": {
     "end_time": "2024-05-12T15:53:15.342175Z",
     "start_time": "2024-05-12T15:53:15.311938Z"
    }
   },
   "outputs": [],
   "source": [
    "modelo = load_model_from_file('caminho/caminho.obj')\n",
    "\n",
    "### inserindo vertices do modelo no vetor de vertices\n",
    "print('Processando modelo terreno.obj. Vertice inicial:',len(vertices_list))\n",
    "for face in modelo['faces']:\n",
    "    for vertice_id in face[0]:\n",
    "        vertices_list.append( modelo['vertices'][vertice_id-1] )\n",
    "    for texture_id in face[1]:\n",
    "        textures_coord_list.append( modelo['texture'][texture_id-1] )\n",
    "print('Processando modelo terreno.obj. Vertice final:',len(vertices_list))\n",
    "\n",
    "### carregando textura equivalente e definindo um id (buffer): use um id por textura!\n",
    "load_texture_from_file(3,'caminho/caminho.jpg')"
   ]
  },
  {
   "cell_type": "code",
   "execution_count": 57,
   "metadata": {
    "ExecuteTime": {
     "end_time": "2024-05-12T15:53:15.809187Z",
     "start_time": "2024-05-12T15:53:15.343480Z"
    }
   },
   "outputs": [],
   "source": [
    "modelo = load_model_from_file('gato/gato.obj')\n",
    "\n",
    "### inserindo vertices do modelo no vetor de vertices\n",
    "print('Processando modelo cat.obj. Vertice inicial:',len(vertices_list))\n",
    "for face in modelo['faces']:\n",
    "    for vertice_id in face[0]:\n",
    "        vertices_list.append( modelo['vertices'][vertice_id-1] )\n",
    "    for texture_id in face[1]:\n",
    "        textures_coord_list.append( modelo['texture'][texture_id-1] )\n",
    "print('Processando modelo casa.obj. Vertice final:',len(vertices_list))\n",
    "\n",
    "### carregando textura equivalente e definindo um id (buffer): use um id por textura!\n",
    "load_texture_from_file(4,'gato/gato.jpg')"
   ]
  },
  {
   "cell_type": "code",
   "execution_count": 58,
   "metadata": {
    "ExecuteTime": {
     "end_time": "2024-05-12T15:53:16.035713Z",
     "start_time": "2024-05-12T15:53:15.810851Z"
    }
   },
   "outputs": [],
   "source": [
    "modelo = load_model_from_file('lobo/lobo.obj')\n",
    "\n",
    "### inserindo vertices do modelo no vetor de vertices\n",
    "print('Processando modelo cat.obj. Vertice inicial:',len(vertices_list))\n",
    "for face in modelo['faces']:\n",
    "    for vertice_id in face[0]:\n",
    "        vertices_list.append( modelo['vertices'][vertice_id-1] )\n",
    "    for texture_id in face[1]:\n",
    "        textures_coord_list.append( modelo['texture'][texture_id-1] )\n",
    "print('Processando modelo casa.obj. Vertice final:',len(vertices_list))\n",
    "\n",
    "### carregando textura equivalente e definindo um id (buffer): use um id por textura!\n",
    "load_texture_from_file(5,'lobo/lobo.jpg')"
   ]
  },
  {
   "cell_type": "code",
   "execution_count": 59,
   "metadata": {
    "ExecuteTime": {
     "end_time": "2024-05-12T15:53:16.144637Z",
     "start_time": "2024-05-12T15:53:16.037005Z"
    }
   },
   "outputs": [],
   "source": [
    "modelo = load_model_from_file('torre/torre.obj')\n",
    "\n",
    "### inserindo vertices do modelo no vetor de vertices\n",
    "print('Processando modelo cat.obj. Vertice inicial:',len(vertices_list))\n",
    "for face in modelo['faces']:\n",
    "    for vertice_id in face[0]:\n",
    "        vertices_list.append( modelo['vertices'][vertice_id-1] )\n",
    "    for texture_id in face[1]:\n",
    "        textures_coord_list.append( modelo['texture'][texture_id-1] )\n",
    "print('Processando modelo casa.obj. Vertice final:',len(vertices_list))\n",
    "\n",
    "### carregando textura equivalente e definindo um id (buffer): use um id por textura!\n",
    "load_texture_from_file(6,'torre/torre.jpg')"
   ]
  },
  {
   "cell_type": "code",
   "execution_count": 60,
   "metadata": {
    "ExecuteTime": {
     "end_time": "2024-05-12T15:53:16.389821Z",
     "start_time": "2024-05-12T15:53:16.146795Z"
    }
   },
   "outputs": [],
   "source": [
    "modelo = load_model_from_file('arvore/arvore.obj')\n",
    "\n",
    "### inserindo vertices do modelo no vetor de vertices\n",
    "print('Processando modelo arvore.obj. Vertice inicial:',len(vertices_list))\n",
    "faces_visited = []\n",
    "for face in modelo['faces']:\n",
    "    if face[2] not in faces_visited:\n",
    "        print(face[2],' vertice inicial =',len(vertices_list))\n",
    "        faces_visited.append(face[2])\n",
    "    for vertice_id in face[0]:\n",
    "        vertices_list.append( modelo['vertices'][vertice_id-1] )\n",
    "    for texture_id in face[1]:\n",
    "        textures_coord_list.append( modelo['texture'][texture_id-1] )\n",
    "print('Processando modelo arvore.obj. Vertice final:',len(vertices_list))\n",
    "\n",
    "### carregando textura equivalente e definindo um id (buffer): use um id por textura!\n",
    "load_texture_from_file(7,'arvore/casca.jpg')\n",
    "load_texture_from_file(8,'arvore/folhas.png')"
   ]
  },
  {
   "cell_type": "code",
   "execution_count": 61,
   "metadata": {
    "ExecuteTime": {
     "end_time": "2024-05-12T15:53:16.434445Z",
     "start_time": "2024-05-12T15:53:16.391276Z"
    }
   },
   "outputs": [],
   "source": [
    "modelo = load_model_from_file('golem/golem.obj')\n",
    "\n",
    "### inserindo vertices do modelo no vetor de vertices\n",
    "print('Processando modelo cat.obj. Vertice inicial:',len(vertices_list))\n",
    "for face in modelo['faces']:\n",
    "    for vertice_id in face[0]:\n",
    "        vertices_list.append( modelo['vertices'][vertice_id-1] )\n",
    "    for texture_id in face[1]:\n",
    "        textures_coord_list.append( modelo['texture'][texture_id-1] )\n",
    "print('Processando modelo casa.obj. Vertice final:',len(vertices_list))\n",
    "\n",
    "### carregando textura equivalente e definindo um id (buffer): use um id por textura!\n",
    "load_texture_from_file(9,'golem/golem.tif')"
   ]
  },
  {
   "cell_type": "code",
   "execution_count": 62,
   "metadata": {
    "ExecuteTime": {
     "end_time": "2024-05-12T15:53:16.610733Z",
     "start_time": "2024-05-12T15:53:16.435891Z"
    }
   },
   "outputs": [],
   "source": [
    "modelo = load_model_from_file('gaveta/gaveta.obj')\n",
    "\n",
    "### inserindo vertices do modelo no vetor de vertices\n",
    "print('Processando modelo cat.obj. Vertice inicial:',len(vertices_list))\n",
    "for face in modelo['faces']:\n",
    "    for vertice_id in face[0]:\n",
    "        vertices_list.append( modelo['vertices'][vertice_id-1] )\n",
    "    for texture_id in face[1]:\n",
    "        textures_coord_list.append( modelo['texture'][texture_id-1] )\n",
    "print('Processando modelo casa.obj. Vertice final:',len(vertices_list))\n",
    "\n",
    "### carregando textura equivalente e definindo um id (buffer): use um id por textura!\n",
    "load_texture_from_file(10,'gaveta/gaveta.png')"
   ]
  },
  {
   "cell_type": "code",
   "execution_count": 63,
   "metadata": {
    "ExecuteTime": {
     "end_time": "2024-05-12T15:53:16.639607Z",
     "start_time": "2024-05-12T15:53:16.613870Z"
    }
   },
   "outputs": [],
   "source": [
    "modelo = load_model_from_file('caixa/caixa.obj')\n",
    "\n",
    "### inserindo vertices do modelo no vetor de vertices\n",
    "print('Processando modelo cube.obj. Vertice inicial:',len(vertices_list))\n",
    "for face in modelo['faces']:\n",
    "    for vertice_id in face[0]:\n",
    "        vertices_list.append( modelo['vertices'][vertice_id-1] )\n",
    "    for texture_id in face[1]:\n",
    "        textures_coord_list.append( modelo['texture'][texture_id-1] )\n",
    "print('Processando modelo cube.obj. Vertice final:',len(vertices_list))\n",
    "\n",
    "### carregando textura equivalente e definindo um id (buffer): use um id por textura!\n",
    "load_texture_from_file(11,'caixa/caixa.jpg')"
   ]
  },
  {
   "cell_type": "markdown",
   "metadata": {},
   "source": [
    "# Definição de Desenhos"
   ]
  },
  {
   "cell_type": "code",
   "execution_count": 64,
   "metadata": {
    "ExecuteTime": {
     "end_time": "2024-05-12T15:53:16.645381Z",
     "start_time": "2024-05-12T15:53:16.640859Z"
    }
   },
   "outputs": [],
   "source": [
    "def desenha_terreno():\n",
    "    # rotacao\n",
    "    angle = 0.0;\n",
    "    r_x = 0.0; r_y = 0.0; r_z = 1.0;\n",
    "    \n",
    "    # translacao\n",
    "    t_x = 0.0; t_y = -1.01; t_z = 0.0;\n",
    "    \n",
    "    # escala\n",
    "    s_x = 200.0; s_y = 200.0; s_z = 200.0;\n",
    "    \n",
    "    mat_model = model(angle, r_x, r_y, r_z, t_x, t_y, t_z, s_x, s_y, s_z)\n",
    "    loc_model = glGetUniformLocation(program, \"model\")\n",
    "    glUniformMatrix4fv(loc_model, 1, GL_TRUE, mat_model)\n",
    "       \n",
    "    #define id da textura do modelo\n",
    "    glBindTexture(GL_TEXTURE_2D, 0)\n",
    "    \n",
    "    # desenha o modelo\n",
    "    glDrawArrays(GL_TRIANGLES, 0, 6-0) ## renderizando"
   ]
  },
  {
   "cell_type": "code",
   "execution_count": 65,
   "metadata": {
    "ExecuteTime": {
     "end_time": "2024-05-12T15:53:16.654723Z",
     "start_time": "2024-05-12T15:53:16.647808Z"
    }
   },
   "outputs": [],
   "source": [
    "def desenha_sky(rotacao_inc):\n",
    "    # rotacao\n",
    "    angle = rotacao_inc;\n",
    "    r_x = 0.0; r_y = 1.0; r_z = 0.0;\n",
    "    \n",
    "    # translacao\n",
    "    t_x = 0.0; t_y = 0.0; t_z = 0.0;\n",
    "    \n",
    "    # escala\n",
    "    s_x = 3; s_y = 3; s_z = 3;\n",
    "    \n",
    "    mat_model = model(angle, r_x, r_y, r_z, t_x, t_y, t_z, s_x, s_y, s_z)\n",
    "    loc_model = glGetUniformLocation(program, \"model\")\n",
    "    glUniformMatrix4fv(loc_model, 1, GL_TRUE, mat_model)\n",
    "       \n",
    "    #define id da textura do modelo\n",
    "    glBindTexture(GL_TEXTURE_2D, 1)\n",
    "    \n",
    "    \n",
    "    # desenha o modelo\n",
    "    glDrawArrays(GL_TRIANGLES, 6, 5958-6) ## renderizando"
   ]
  },
  {
   "cell_type": "code",
   "execution_count": 66,
   "metadata": {
    "ExecuteTime": {
     "end_time": "2024-05-12T15:53:16.666527Z",
     "start_time": "2024-05-12T15:53:16.656158Z"
    }
   },
   "outputs": [],
   "source": [
    "def desenha_caminho():\n",
    "    # rotacao\n",
    "    angle = 0.0\n",
    "    r_x = 0.0; r_y = 1.0; r_z = 0.0\n",
    "    \n",
    "    # translacao\n",
    "    t_x = -54; t_y = -1.0; t_z = 0.0\n",
    "    \n",
    "    # escala\n",
    "    s_x = 95; s_y = 1.0; s_z = 15\n",
    "    \n",
    "    mat_model = model(angle, r_x, r_y, r_z, t_x, t_y, t_z, s_x, s_y, s_z)\n",
    "    loc_model = glGetUniformLocation(program, \"model\")\n",
    "    glUniformMatrix4fv(loc_model, 1, GL_TRUE, mat_model)\n",
    "       \n",
    "    #define id da textura do modelo\n",
    "    glBindTexture(GL_TEXTURE_2D, 3)\n",
    "    \n",
    "    # desenha o modelo\n",
    "    glDrawArrays(GL_TRIANGLES, 5958, 5964-5958) ## renderizando"
   ]
  },
  {
   "cell_type": "code",
   "execution_count": 67,
   "metadata": {
    "ExecuteTime": {
     "end_time": "2024-05-12T15:53:16.676953Z",
     "start_time": "2024-05-12T15:53:16.668016Z"
    }
   },
   "outputs": [],
   "source": [
    "def desenha_gato():\n",
    "    # rotacao\n",
    "    angle = 90.0;\n",
    "    r_x = -1.0; r_y = 0.0; r_z = 0.0;\n",
    "    \n",
    "    # translacao\n",
    "    t_x = 30.0; t_y = 31.3; t_z = -3.7;\n",
    "    \n",
    "    # escala\n",
    "    s_x = 0.05; s_y = 0.05; s_z = 0.05;\n",
    "    \n",
    "    mat_model = model(angle, r_x, r_y, r_z, t_x, t_y, t_z, s_x, s_y, s_z)\n",
    "\n",
    "    loc_model = glGetUniformLocation(program, \"model\")\n",
    "\n",
    "    glUniformMatrix4fv(loc_model, 1, GL_TRUE, mat_model)\n",
    "       \n",
    "    #define id da textura do modelo\n",
    "    glBindTexture(GL_TEXTURE_2D, 4)\n",
    "    \n",
    "    # desenha o modelo\n",
    "    glDrawArrays(GL_TRIANGLES, 5964, 217692-5964) ## renderizando"
   ]
  },
  {
   "cell_type": "code",
   "execution_count": 68,
   "metadata": {
    "ExecuteTime": {
     "end_time": "2024-05-12T15:53:16.687223Z",
     "start_time": "2024-05-12T15:53:16.679166Z"
    }
   },
   "outputs": [],
   "source": [
    "def desenha_lobo():\n",
    "    # rotacao\n",
    "    angle = -90.0;\n",
    "    r_x = 0.0; r_y = 1.0; r_z = 0.0;\n",
    "    \n",
    "    # translacao\n",
    "    t_x = 0.0; t_y = -1.0; t_z = 0;\n",
    "    \n",
    "    # escala\n",
    "    s_x = 12; s_y = 12; s_z = 12;\n",
    "    \n",
    "    mat_model = model(angle, r_x, r_y, r_z, t_x, t_y, t_z, s_x, s_y, s_z)\n",
    "\n",
    "    loc_model = glGetUniformLocation(program, \"model\")\n",
    "\n",
    "    glUniformMatrix4fv(loc_model, 1, GL_TRUE, mat_model)\n",
    "       \n",
    "    #define id da textura do modelo\n",
    "    glBindTexture(GL_TEXTURE_2D, 5)\n",
    "    \n",
    "    # desenha o modelo\n",
    "    glDrawArrays(GL_TRIANGLES, 217692, 225960-217692) ## renderizando"
   ]
  },
  {
   "cell_type": "code",
   "execution_count": 69,
   "metadata": {
    "ExecuteTime": {
     "end_time": "2024-05-12T15:53:16.698669Z",
     "start_time": "2024-05-12T15:53:16.688762Z"
    }
   },
   "outputs": [],
   "source": [
    "def desenha_torre():\n",
    "    # rotacao\n",
    "    angle = 0.0;\n",
    "    r_x = 0.0; r_y = 0.0; r_z = 1.0;\n",
    "    \n",
    "    # translacao\n",
    "    t_x = 30.0; t_y = -4.0; t_z = 0.0;\n",
    "    \n",
    "    # escala\n",
    "    s_x = 5.0; s_y = 5.0; s_z = 5.0;\n",
    "    \n",
    "    mat_model = model(angle, r_x, r_y, r_z, t_x, t_y, t_z, s_x, s_y, s_z)\n",
    "    loc_model = glGetUniformLocation(program, \"model\")\n",
    "    glUniformMatrix4fv(loc_model, 1, GL_TRUE, mat_model)\n",
    "       \n",
    "    #define id da textura do modelo\n",
    "    glBindTexture(GL_TEXTURE_2D, 6)\n",
    "    \n",
    "    # desenha o modelo\n",
    "    glDrawArrays(GL_TRIANGLES, 225960, 232068-225960) ## renderizando"
   ]
  },
  {
   "cell_type": "code",
   "execution_count": 70,
   "metadata": {
    "ExecuteTime": {
     "end_time": "2024-05-12T15:53:16.708895Z",
     "start_time": "2024-05-12T15:53:16.701027Z"
    }
   },
   "outputs": [],
   "source": [
    "def desenha_arvore(x, z):\n",
    "    # rotacao\n",
    "    angle = 0.0;\n",
    "    r_x = 0.0; r_y = 0.0; r_z = 1.0;\n",
    "    \n",
    "    # translacao\n",
    "    #t_x = -10.0; t_y = -1.0; t_z = 15.0;\n",
    "    t_x = x; t_y = -1.0; t_z = z;\n",
    "    \n",
    "    # escala\n",
    "    s_x = 7.0; s_y = 7.0; s_z = 7.0;\n",
    "    \n",
    "    mat_model = model(angle, r_x, r_y, r_z, t_x, t_y, t_z, s_x, s_y, s_z)\n",
    "    loc_model = glGetUniformLocation(program, \"model\")\n",
    "    glUniformMatrix4fv(loc_model, 1, GL_TRUE, mat_model)\n",
    "    \n",
    "    ### desenho o tronco da arvore\n",
    "    #define id da textura do modelo\n",
    "    glBindTexture(GL_TEXTURE_2D, 7)\n",
    "    # desenha o modelo\n",
    "    glDrawArrays(GL_TRIANGLES, 232068, 252330-232068) ## renderizando\n",
    "    \n",
    "    ### desenho as folhas\n",
    "    #define id da textura do modelo\n",
    "    glBindTexture(GL_TEXTURE_2D, 8)\n",
    "    # desenha o modelo\n",
    "    glDrawArrays(GL_TRIANGLES, 252330, 273240-252330) ## renderizando"
   ]
  },
  {
   "cell_type": "code",
   "execution_count": 71,
   "metadata": {
    "ExecuteTime": {
     "end_time": "2024-05-12T15:53:16.718638Z",
     "start_time": "2024-05-12T15:53:16.710364Z"
    }
   },
   "outputs": [],
   "source": [
    "def desenha_golem():\n",
    "    # rotacao\n",
    "    angle = 90.0;\n",
    "    r_x = 0.0; r_y = 1.0; r_z = 0.0;\n",
    "    \n",
    "    # translacao\n",
    "    t_x = -110; t_y = -1; t_z = 0.0;\n",
    "    \n",
    "    # escala\n",
    "    s_x = 2.5; s_y = 2.5; s_z = 2.5;\n",
    "    \n",
    "    mat_model = model(angle, r_x, r_y, r_z, t_x, t_y, t_z, s_x, s_y, s_z)\n",
    "\n",
    "    loc_model = glGetUniformLocation(program, \"model\")\n",
    "\n",
    "    glUniformMatrix4fv(loc_model, 1, GL_TRUE, mat_model)\n",
    "       \n",
    "    #define id da textura do modelo\n",
    "    glBindTexture(GL_TEXTURE_2D, 9)\n",
    "    \n",
    "    # desenha o modelo\n",
    "    glDrawArrays(GL_TRIANGLES, 273240, 281637-273240) ## renderizando"
   ]
  },
  {
   "cell_type": "code",
   "execution_count": 72,
   "metadata": {
    "ExecuteTime": {
     "end_time": "2024-05-12T15:53:16.730531Z",
     "start_time": "2024-05-12T15:53:16.720298Z"
    }
   },
   "outputs": [],
   "source": [
    "def desenha_gaveta():\n",
    "    # rotacao\n",
    "    angle = 180.0;\n",
    "    r_x = 0.0; r_y = 1.0; r_z = 0.0;\n",
    "    \n",
    "    # translacao\n",
    "    t_x = 33.5; t_y = 28.5; t_z = 2;\n",
    "    \n",
    "    # escala\n",
    "    s_x = 1; s_y = 1; s_z = 1;\n",
    "    \n",
    "    mat_model = model(angle, r_x, r_y, r_z, t_x, t_y, t_z, s_x, s_y, s_z)\n",
    "\n",
    "    loc_model = glGetUniformLocation(program, \"model\")\n",
    "\n",
    "    glUniformMatrix4fv(loc_model, 1, GL_TRUE, mat_model)\n",
    "       \n",
    "    #define id da textura do modelo\n",
    "    glBindTexture(GL_TEXTURE_2D, 10)\n",
    "    \n",
    "    \n",
    "    # desenha o modelo\n",
    "    glDrawArrays(GL_TRIANGLES, 281637, 313443-281637) ## renderizando"
   ]
  },
  {
   "cell_type": "code",
   "execution_count": 73,
   "metadata": {
    "ExecuteTime": {
     "end_time": "2024-05-12T15:53:16.740873Z",
     "start_time": "2024-05-12T15:53:16.735439Z"
    }
   },
   "outputs": [],
   "source": [
    "def desenha_caixa():\n",
    "    # rotacao\n",
    "    angle = 0.0;\n",
    "    r_x = -1.0; r_y = 0.0; r_z = 0.0;\n",
    "    \n",
    "    # translacao\n",
    "    t_x = 30; t_y = 30; t_z = -4;\n",
    "    \n",
    "    # escala\n",
    "    s_x = 1.2; s_y = 1.2; s_z = 1.2;\n",
    "    \n",
    "    mat_model = model(angle, r_x, r_y, r_z, t_x, t_y, t_z, s_x, s_y, s_z)\n",
    "\n",
    "    loc_model = glGetUniformLocation(program, \"model\")\n",
    "\n",
    "    glUniformMatrix4fv(loc_model, 1, GL_TRUE, mat_model)\n",
    "       \n",
    "    #define id da textura do modelo\n",
    "    glBindTexture(GL_TEXTURE_2D, 11)\n",
    "    \n",
    "    # desenha o modelo\n",
    "    glDrawArrays(GL_TRIANGLES, 313443, 313479-313443) ## renderizando"
   ]
  },
  {
   "cell_type": "markdown",
   "metadata": {},
   "source": [
    "# Rodando"
   ]
  },
  {
   "cell_type": "markdown",
   "metadata": {},
   "source": [
    "### Uso da GPU"
   ]
  },
  {
   "cell_type": "code",
   "execution_count": 74,
   "metadata": {
    "ExecuteTime": {
     "end_time": "2024-05-12T15:53:16.750603Z",
     "start_time": "2024-05-12T15:53:16.742459Z"
    }
   },
   "outputs": [],
   "source": [
    "buffer = glGenBuffers(2)"
   ]
  },
  {
   "cell_type": "code",
   "execution_count": 75,
   "metadata": {
    "ExecuteTime": {
     "end_time": "2024-05-12T15:53:17.134102Z",
     "start_time": "2024-05-12T15:53:16.752471Z"
    }
   },
   "outputs": [],
   "source": [
    "vertices = np.zeros(len(vertices_list), [(\"position\", np.float32, 3)])\n",
    "vertices['position'] = vertices_list\n",
    "\n",
    "# Upload data\n",
    "glBindBuffer(GL_ARRAY_BUFFER, buffer[0])\n",
    "glBufferData(GL_ARRAY_BUFFER, vertices.nbytes, vertices, GL_STATIC_DRAW)\n",
    "stride = vertices.strides[0]\n",
    "offset = ctypes.c_void_p(0)\n",
    "loc_vertices = glGetAttribLocation(program, \"position\")\n",
    "glEnableVertexAttribArray(loc_vertices)\n",
    "glVertexAttribPointer(loc_vertices, 3, GL_FLOAT, False, stride, offset)\n",
    "\n",
    "textures = np.zeros(len(textures_coord_list), [(\"position\", np.float32, 2)]) # duas coordenadas\n",
    "textures['position'] = textures_coord_list\n",
    "\n",
    "# Upload data\n",
    "glBindBuffer(GL_ARRAY_BUFFER, buffer[1])\n",
    "glBufferData(GL_ARRAY_BUFFER, textures.nbytes, textures, GL_STATIC_DRAW)\n",
    "stride = textures.strides[0]\n",
    "offset = ctypes.c_void_p(0)\n",
    "loc_texture_coord = glGetAttribLocation(program, \"texture_coord\")\n",
    "glEnableVertexAttribArray(loc_texture_coord)\n",
    "glVertexAttribPointer(loc_texture_coord, 2, GL_FLOAT, False, stride, offset)"
   ]
  },
  {
   "cell_type": "markdown",
   "metadata": {},
   "source": [
    "### Eventos"
   ]
  },
  {
   "cell_type": "code",
   "execution_count": 76,
   "metadata": {
    "ExecuteTime": {
     "end_time": "2024-05-12T15:53:17.143128Z",
     "start_time": "2024-05-12T15:53:17.135355Z"
    }
   },
   "outputs": [],
   "source": [
    "cameraPos   = glm.vec3(25.0,  33.0,  0.0)\n",
    "cameraFront = glm.vec3(0.0,  0.0, -1.0)\n",
    "cameraUp    = glm.vec3(0.0,  1.0,  0.0)\n",
    "\n",
    "trap_mouse = True\n",
    "polygonal_mode = False\n",
    "\n",
    "inc_fov = 0\n",
    "inc_near = 0\n",
    "inc_far = 0\n",
    "inc_view_up = 0\n",
    "\n",
    "def key_event(window,key,scancode,action,mods):\n",
    "    global cameraPos, cameraFront, cameraUp, polygonal_mode, trap_mouse, inc_fov, inc_near, inc_far, cameraUp, inc_view_up\n",
    "    \n",
    "    cameraSpeed = 0.75\n",
    "    if key == 87 and (action==1 or action==2): # tecla W\n",
    "        cameraPos += cameraSpeed * cameraFront\n",
    "    \n",
    "    if key == 83 and (action==1 or action==2): # tecla S\n",
    "        cameraPos -= cameraSpeed * cameraFront\n",
    "    \n",
    "    if key == 65 and (action==1 or action==2): # tecla A\n",
    "        cameraPos -= glm.normalize(glm.cross(cameraFront, cameraUp)) * cameraSpeed\n",
    "        \n",
    "    if key == 68 and (action==1 or action==2): # tecla D\n",
    "        cameraPos += glm.normalize(glm.cross(cameraFront, cameraUp)) * cameraSpeed\n",
    "        \n",
    "    if key == 80 and action==1: polygonal_mode = not polygonal_mode # tecla P\n",
    "            \n",
    "    if key == 77 and action==1: trap_mouse = not trap_mouse # tecla M\n",
    "\n",
    "\n",
    "firstMouse = True\n",
    "yaw = 20.0 \n",
    "pitch = 5.0\n",
    "lastX =  largura/2\n",
    "lastY =  altura/2\n",
    "\n",
    "def mouse_event(window, xpos, ypos):\n",
    "    global firstMouse, cameraFront, yaw, pitch, lastX, lastY\n",
    "    if firstMouse:\n",
    "        lastX = xpos\n",
    "        lastY = ypos\n",
    "        firstMouse = False\n",
    "\n",
    "    xoffset = xpos - lastX\n",
    "    yoffset = lastY - ypos\n",
    "    lastX = xpos\n",
    "    lastY = ypos\n",
    "\n",
    "    sensitivity = 0.3 \n",
    "    xoffset *= sensitivity\n",
    "    yoffset *= sensitivity\n",
    "\n",
    "    yaw += xoffset;\n",
    "    pitch += yoffset;\n",
    "    \n",
    "    if pitch >= 89.9: pitch = 89.9\n",
    "    if pitch <= -89.9: pitch = -89.9\n",
    "\n",
    "    front = glm.vec3()\n",
    "    front.x = math.cos(glm.radians(yaw)) * math.cos(glm.radians(pitch))\n",
    "    front.y = math.sin(glm.radians(pitch))\n",
    "    front.z = math.sin(glm.radians(yaw)) * math.cos(glm.radians(pitch))\n",
    "    cameraFront = glm.normalize(front)\n",
    "    \n",
    "glfw.set_key_callback(window,key_event)\n",
    "glfw.set_cursor_pos_callback(window, mouse_event)"
   ]
  },
  {
   "cell_type": "markdown",
   "metadata": {},
   "source": [
    "### Execução Final"
   ]
  },
  {
   "cell_type": "code",
   "execution_count": 77,
   "metadata": {
    "ExecuteTime": {
     "end_time": "2024-05-12T15:53:17.217424Z",
     "start_time": "2024-05-12T15:53:17.145857Z"
    }
   },
   "outputs": [],
   "source": [
    "glfw.show_window(window)\n",
    "glfw.set_cursor_pos(window, lastX, lastY)"
   ]
  },
  {
   "cell_type": "code",
   "execution_count": 78,
   "metadata": {
    "ExecuteTime": {
     "end_time": "2024-05-12T15:53:32.662301Z",
     "start_time": "2024-05-12T15:53:17.220498Z"
    }
   },
   "outputs": [],
   "source": [
    "glEnable(GL_DEPTH_TEST)\n",
    "\n",
    "rotacao_inc = 0\n",
    "while not glfw.window_should_close(window):\n",
    "    glfw.poll_events() \n",
    "    \n",
    "    glClear(GL_COLOR_BUFFER_BIT | GL_DEPTH_BUFFER_BIT)\n",
    "    \n",
    "    glClearColor(1.0, 1.0, 1.0, 1.0)\n",
    "    \n",
    "    if polygonal_mode == True: glPolygonMode(GL_FRONT_AND_BACK, GL_LINE)\n",
    "    else: glPolygonMode(GL_FRONT_AND_BACK, GL_FILL)\n",
    "        \n",
    "    if trap_mouse == True: glfw.set_input_mode(window, glfw.CURSOR, glfw.CURSOR_DISABLED)\n",
    "    else: glfw.set_input_mode(window, glfw.CURSOR, glfw.CURSOR_NORMAL)\n",
    "    \n",
    "    rotacao_inc += 0.1   \n",
    "    desenha_sky(rotacao_inc)\n",
    "\n",
    "    desenha_terreno()\n",
    "    desenha_caminho()\n",
    "    desenha_gato()\n",
    "    desenha_lobo()\n",
    "    desenha_torre()\n",
    "    desenha_golem()\n",
    "    desenha_gaveta()\n",
    "    desenha_caixa()\n",
    "\n",
    "    value = 5\n",
    "    for i in range(7):\n",
    "        desenha_arvore(value - 20*i, 20)\n",
    "        desenha_arvore(value - 20*i, -20)\n",
    "        desenha_arvore(value - 20*i, 40)\n",
    "        desenha_arvore(value - 20*i, -40)\n",
    "        desenha_arvore(value - 20*i, 60)\n",
    "        desenha_arvore(value - 20*i, -60)\n",
    "    \n",
    "    mat_view = view()\n",
    "    loc_view = glGetUniformLocation(program, \"view\")\n",
    "    glUniformMatrix4fv(loc_view, 1, GL_TRUE, mat_view)\n",
    "\n",
    "    mat_projection = projection()\n",
    "    loc_projection = glGetUniformLocation(program, \"projection\")\n",
    "    glUniformMatrix4fv(loc_projection, 1, GL_TRUE, mat_projection)    \n",
    "    \n",
    "    glfw.swap_buffers(window)\n",
    "\n",
    "glfw.terminate()"
   ]
  }
 ],
 "metadata": {
  "kernelspec": {
   "display_name": "Python 3 (ipykernel)",
   "language": "python",
   "name": "python3"
  },
  "language_info": {
   "codemirror_mode": {
    "name": "ipython",
    "version": 3
   },
   "file_extension": ".py",
   "mimetype": "text/x-python",
   "name": "python",
   "nbconvert_exporter": "python",
   "pygments_lexer": "ipython3",
   "version": "3.12.2"
  }
 },
 "nbformat": 4,
 "nbformat_minor": 2
}
