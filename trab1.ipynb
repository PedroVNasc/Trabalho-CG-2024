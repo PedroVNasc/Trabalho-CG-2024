{
 "cells": [
  {
   "cell_type": "markdown",
   "metadata": {},
   "source": [
    "# Integrantes e Link do Vídeo"
   ]
  },
  {
   "cell_type": "markdown",
   "metadata": {},
   "source": [
    "* Bernardo Maia Coelho - 12542481\n",
    "* Gustavo Wadas Lopes - 12745640\n",
    "* Pedro Guilherme dos Reis Teixeira - 12542477\n",
    "* Pedro Henrique Vilela do Nascimento - 12803492\n",
    "\n",
    "[Link do vídeo do trabalho 1](https://youtu.be/QR3MZX6I77E)"
   ]
  },
  {
   "cell_type": "markdown",
   "metadata": {},
   "source": [
    "# Setup"
   ]
  },
  {
   "cell_type": "markdown",
   "metadata": {},
   "source": [
    "### Libraries"
   ]
  },
  {
   "cell_type": "code",
   "execution_count": null,
   "metadata": {
    "ExecuteTime": {
     "end_time": "2024-05-12T15:53:14.993557Z",
     "start_time": "2024-05-12T15:53:14.986556Z"
    }
   },
   "outputs": [],
   "source": [
    "import glfw\n",
    "from OpenGL.GL import *\n",
    "import numpy as np\n",
    "import glm\n",
    "import math\n",
    "from typing import TypedDict\n",
    "from PIL import Image"
   ]
  },
  {
   "cell_type": "markdown",
   "metadata": {},
   "source": [
    "### Abre a Janela"
   ]
  },
  {
   "cell_type": "code",
   "execution_count": null,
   "metadata": {
    "ExecuteTime": {
     "end_time": "2024-05-12T15:53:15.140564Z",
     "start_time": "2024-05-12T15:53:14.998183Z"
    }
   },
   "outputs": [],
   "source": [
    "glfw.init()\n",
    "glfw.window_hint(glfw.VISIBLE, glfw.FALSE)\n",
    "altura = 1600\n",
    "largura = 1200\n",
    "window = glfw.create_window(largura, altura, \"Malhas e Texturas\", None, None)\n",
    "glfw.make_context_current(window)\n",
    "glfw.set_input_mode(window, glfw.CURSOR, glfw.CURSOR_DISABLED)"
   ]
  },
  {
   "cell_type": "markdown",
   "metadata": {},
   "source": [
    "### Vertex e Fragment Shaders"
   ]
  },
  {
   "cell_type": "code",
   "execution_count": null,
   "metadata": {
    "ExecuteTime": {
     "end_time": "2024-05-12T15:53:15.145795Z",
     "start_time": "2024-05-12T15:53:15.142879Z"
    }
   },
   "outputs": [],
   "source": [
    "vertex_code = \"\"\"\n",
    "        attribute vec3 position;\n",
    "        attribute vec2 texture_coord;\n",
    "        attribute vec3 normals;\n",
    "       \n",
    "        varying vec2 out_texture;\n",
    "        varying vec3 out_fragPos;\n",
    "        varying vec3 out_normal;\n",
    "                \n",
    "        uniform mat4 model;\n",
    "        uniform mat4 view;\n",
    "        uniform mat4 projection;        \n",
    "        \n",
    "        void main(){\n",
    "            gl_Position = projection * view * model * vec4(position,1.0);\n",
    "            out_texture = vec2(texture_coord);\n",
    "            out_fragPos = vec3(model * vec4(position, 1.0));\n",
    "            out_normal = normals;            \n",
    "        }\n",
    "        \"\"\"\n",
    "\n",
    "fragment_code = \"\"\"\n",
    "        uniform vec4 color;\n",
    "        uniform sampler2D samplerTexture;\n",
    "        \n",
    "        uniform vec3 lightPos; // define coordenadas de posicao da luz\n",
    "        uniform float ka; // coeficiente de reflexao ambiente\n",
    "        uniform float kd; // coeficiente de reflexao difusa\n",
    "        \n",
    "        vec3 lightColor = vec3(1.0, 1.0, 1.0);\n",
    "\n",
    "        varying vec3 out_fragPos; // recebido do vertex shader\n",
    "        varying vec2 out_texture;\n",
    "        varying vec3 out_normal; // recebido do vertex shader\n",
    "        \n",
    "        void main(){\n",
    "            vec4 texture = texture2D(samplerTexture, out_texture);\n",
    "            gl_FragColor = texture;\n",
    "        }\n",
    "        \"\"\""
   ]
  },
  {
   "cell_type": "code",
   "execution_count": null,
   "metadata": {
    "ExecuteTime": {
     "end_time": "2024-05-12T15:53:15.162702Z",
     "start_time": "2024-05-12T15:53:15.148222Z"
    }
   },
   "outputs": [],
   "source": [
    "# Request a program and shader slots from GPU\n",
    "program = glCreateProgram()\n",
    "vertex = glCreateShader(GL_VERTEX_SHADER)\n",
    "fragment = glCreateShader(GL_FRAGMENT_SHADER)\n",
    "\n",
    "# Set shaders source\n",
    "glShaderSource(vertex, vertex_code)\n",
    "glShaderSource(fragment, fragment_code)\n",
    "\n",
    "# Compile shaders\n",
    "glCompileShader(vertex)\n",
    "if not glGetShaderiv(vertex, GL_COMPILE_STATUS):\n",
    "    error = glGetShaderInfoLog(vertex).decode()\n",
    "    print(error)\n",
    "    raise RuntimeError(\"Erro de compilacao do Vertex Shader\")\n",
    "\n",
    "\n",
    "glCompileShader(fragment)\n",
    "if not glGetShaderiv(fragment, GL_COMPILE_STATUS):\n",
    "    error = glGetShaderInfoLog(fragment).decode()\n",
    "    print(error)\n",
    "    raise RuntimeError(\"Erro de compilacao do Fragment Shader\")"
   ]
  },
  {
   "cell_type": "code",
   "execution_count": null,
   "metadata": {
    "ExecuteTime": {
     "end_time": "2024-05-12T15:53:15.170415Z",
     "start_time": "2024-05-12T15:53:15.166179Z"
    }
   },
   "outputs": [],
   "source": [
    "# Attach shader objects to the program\n",
    "glAttachShader(program, vertex)\n",
    "glAttachShader(program, fragment)\n",
    "\n",
    "# Build program\n",
    "glLinkProgram(program)\n",
    "if not glGetProgramiv(program, GL_LINK_STATUS):\n",
    "    print(glGetProgramInfoLog(program))\n",
    "    raise RuntimeError('Linking error')\n",
    "\n",
    "# Make program the default program\n",
    "glUseProgram(program)"
   ]
  },
  {
   "cell_type": "markdown",
   "metadata": {},
   "source": [
    "# Matriz Model, View, Projection"
   ]
  },
  {
   "cell_type": "code",
   "execution_count": null,
   "metadata": {
    "ExecuteTime": {
     "end_time": "2024-05-12T15:53:15.183371Z",
     "start_time": "2024-05-12T15:53:15.172293Z"
    }
   },
   "outputs": [],
   "source": [
    "def model(angle, r_x, r_y, r_z, t_x, t_y, t_z, s_x, s_y, s_z):\n",
    "    angle = math.radians(angle)\n",
    "\n",
    "    matrix_transform = glm.mat4(1.0)  # instanciando uma matriz identidade\n",
    "\n",
    "    # aplicando translacao\n",
    "    matrix_transform = glm.translate(matrix_transform, glm.vec3(t_x, t_y, t_z))\n",
    "\n",
    "    # aplicando rotacao\n",
    "    matrix_transform = glm.rotate(\n",
    "        matrix_transform, angle, glm.vec3(r_x, r_y, r_z))\n",
    "\n",
    "    # aplicando escala\n",
    "    matrix_transform = glm.scale(matrix_transform, glm.vec3(s_x, s_y, s_z))\n",
    "\n",
    "    # pegando a transposta da matriz (glm trabalha com ela invertida)\n",
    "    matrix_transform = np.array(matrix_transform)\n",
    "\n",
    "    return matrix_transform\n",
    "\n",
    "\n",
    "def view():\n",
    "    global camera_pos, camera_front, camera_up\n",
    "    mat_view = glm.lookAt(camera_pos, camera_pos + camera_front, camera_up)\n",
    "\n",
    "    mat_view = np.array(mat_view)\n",
    "    return mat_view\n",
    "\n",
    "\n",
    "def projection():\n",
    "    global altura, largura, inc_fov, inc_near, inc_far\n",
    "    # perspective parameters: fovy, aspect, near, far\n",
    "    mat_projection = glm.perspective(\n",
    "        glm.radians(45.0), largura/altura, 0.1, 1000.0)\n",
    "    mat_projection = np.array(mat_projection)\n",
    "    return mat_projection"
   ]
  },
  {
   "cell_type": "markdown",
   "metadata": {},
   "source": [
    "# Modelos e Texturas"
   ]
  },
  {
   "cell_type": "code",
   "execution_count": null,
   "metadata": {
    "ExecuteTime": {
     "end_time": "2024-05-12T15:53:15.199086Z",
     "start_time": "2024-05-12T15:53:15.185421Z"
    }
   },
   "outputs": [],
   "source": [
    "def load_model_from_file(filename):\n",
    "    \"\"\"Loads a Wavefront OBJ file. \"\"\"\n",
    "\n",
    "    vertices = []\n",
    "    texture_coords = []\n",
    "    normals = []\n",
    "    faces = []\n",
    "\n",
    "    material = None\n",
    "\n",
    "    for line in open(filename, \"r\"):\n",
    "        line = line.split(\"#\")[0] # remove os comentários\n",
    "        values = line.strip().split() # quebra a linha por espaço\n",
    "        \n",
    "        if len(values) == 0: continue\n",
    "\n",
    "        match values[0]:\n",
    "            case 'v': vertices.append(values[1:4])\n",
    "            case 'vn': normals.append(values[1:4])\n",
    "            case 'vt': texture_coords.append(values[1:3])\n",
    "            case 'usemtl': material = values[1]\n",
    "            case 'usemat': material = values[1]\n",
    "            case 'f':\n",
    "                face = []\n",
    "                face_texture = []\n",
    "                face_normals = []\n",
    "\n",
    "                for v in values[1:]:\n",
    "\n",
    "                    w = v.split('/')\n",
    "                    face.append(int(w[0]))\n",
    "                    face_normals.append(int(w[2]))\n",
    "                    if len(w) >= 2 and len(w[1]) > 0:\n",
    "                        face_texture.append(int(w[1]))\n",
    "                    else:\n",
    "                        face_texture.append(0)\n",
    "\n",
    "                faces.append((face, face_texture, face_normals, material))\n",
    "\n",
    "             \n",
    "    model = {}\n",
    "    model['vertices'] = vertices\n",
    "    model['texture'] = texture_coords\n",
    "    model['faces'] = faces\n",
    "    model['normals'] = normals\n",
    "\n",
    "    return model"
   ]
  },
  {
   "cell_type": "code",
   "execution_count": null,
   "metadata": {
    "ExecuteTime": {
     "end_time": "2024-05-12T15:53:15.211761Z",
     "start_time": "2024-05-12T15:53:15.201787Z"
    }
   },
   "outputs": [],
   "source": [
    "glHint(GL_LINE_SMOOTH_HINT, GL_DONT_CARE)\n",
    "glEnable(GL_BLEND)\n",
    "glBlendFunc(GL_SRC_ALPHA, GL_ONE_MINUS_SRC_ALPHA)\n",
    "glEnable(GL_LINE_SMOOTH)\n",
    "glEnable(GL_TEXTURE_2D)\n",
    "\n",
    "\n",
    "def load_texture_from_file(texture_id, img_textura):\n",
    "    glBindTexture(GL_TEXTURE_2D, texture_id)\n",
    "    glTexParameteri(GL_TEXTURE_2D, GL_TEXTURE_WRAP_S, GL_REPEAT)\n",
    "    glTexParameteri(GL_TEXTURE_2D, GL_TEXTURE_WRAP_T, GL_REPEAT)\n",
    "    glTexParameteri(GL_TEXTURE_2D, GL_TEXTURE_MIN_FILTER, GL_LINEAR)\n",
    "    glTexParameteri(GL_TEXTURE_2D, GL_TEXTURE_MAG_FILTER, GL_LINEAR)\n",
    "    img = Image.open(img_textura)\n",
    "    print(img_textura, img.mode)\n",
    "    img_width = img.size[0]\n",
    "    img_height = img.size[1]\n",
    "    image_data = img.convert(\"RGBA\").tobytes(\"raw\", \"RGBA\", 0, -1)\n",
    "\n",
    "    glTexImage2D(GL_TEXTURE_2D, 0, GL_RGBA, img_width, img_height,\n",
    "                 0, GL_RGBA, GL_UNSIGNED_BYTE, image_data)"
   ]
  },
  {
   "cell_type": "code",
   "execution_count": null,
   "metadata": {},
   "outputs": [],
   "source": [
    "vertices_list = []\n",
    "normals_list = []\n",
    "textures_coord_list = []\n",
    "\n",
    "\n",
    "class Coordinates(TypedDict):\n",
    "    x = float\n",
    "    y = float\n",
    "    z = float\n",
    "\n",
    "\n",
    "class Model:\n",
    "    def __init__(self, obj: str, textures: list[int, str], angle: float, r: Coordinates, t: Coordinates, s: Coordinates):\n",
    "        global vertices_list, textures_coord_list, normals_list\n",
    "\n",
    "        self.model = load_model_from_file(obj)\n",
    "        self.textures = textures\n",
    "        self.angle = angle\n",
    "        self.r = r\n",
    "        self.t = t\n",
    "        self.s = s\n",
    "\n",
    "        self.vertices = []\n",
    "\n",
    "        # Se o modelo só tem um vértice, nós utilizamos o primeiro e o último apenas\n",
    "        if len(self.textures) == 1:\n",
    "            self.vertices.append(len(vertices_list))\n",
    "\n",
    "        # Guarda os vértices do modelo\n",
    "        faces_visited = []\n",
    "        for face in self.model['faces']:\n",
    "            if len(self.textures) > 1 and face[3] not in faces_visited:\n",
    "                self.vertices.append(len(vertices_list))\n",
    "                faces_visited.append(face[3])\n",
    "\n",
    "            # Conta a quantidade de vértices\n",
    "            for vertice_id in face[0]:\n",
    "                vertices_list.append(self.model['vertices'][vertice_id-1])\n",
    "\n",
    "            for texture_id in face[1]:\n",
    "                textures_coord_list.append(self.model['texture'][texture_id-1])\n",
    "\n",
    "            for normal_id in face[2]:\n",
    "                normals_list.append(self.model['normals'][normal_id-1])\n",
    "\n",
    "        self.vertices.append(len(vertices_list))\n",
    "\n",
    "        for t in textures:\n",
    "            load_texture_from_file(t[0], t[1])\n",
    "\n",
    "    def draw(self):\n",
    "        mat_model = model(self.angle,\n",
    "                          self.r['x'], self.r['y'], self.r['z'],\n",
    "                          self.t['x'], self.t['y'], self.t['z'],\n",
    "                          self.s['x'], self.s['y'], self.s['z'])\n",
    "\n",
    "        loc_model = glGetUniformLocation(program, \"model\")\n",
    "        glUniformMatrix4fv(loc_model, 1, GL_TRUE, mat_model)\n",
    "\n",
    "        # Carrega as texturas para cada face\n",
    "        for texture in self.textures:\n",
    "            index = self.textures.index(texture)\n",
    "            glBindTexture(GL_TEXTURE_2D, texture[0])\n",
    "            glDrawArrays(GL_TRIANGLES,\n",
    "                         self.vertices[index], self.vertices[index + 1] - self.vertices[index])"
   ]
  },
  {
   "cell_type": "code",
   "execution_count": null,
   "metadata": {
    "ExecuteTime": {
     "end_time": "2024-05-12T15:53:15.237556Z",
     "start_time": "2024-05-12T15:53:15.214472Z"
    }
   },
   "outputs": [],
   "source": [
    "# Guarda os modelos carregados\n",
    "models = {\n",
    "    'terreno': Model('terreno/terreno.obj', [(0, 'terreno/terreno.png')], 0.0,\n",
    "                     Coordinates(x=0.0, y=0.0, z=1.0),\n",
    "                     Coordinates(x=0.0, y=-1.01, z=0.0),\n",
    "                     Coordinates(x=200.0, y=200.0, z=200.0)),\n",
    "\n",
    "    'skybox': Model('skybox/skybox.obj', [(1, 'skybox/skybox.png')], 0.0,\n",
    "                    Coordinates(x=0.0, y=1.0, z=0.0),\n",
    "                    Coordinates(x=0.0, y=0.0, z=0.0),\n",
    "                    Coordinates(x=3.0, y=3.0, z=3.0)),\n",
    "\n",
    "    'caminho': Model('caminho/caminho.obj', [(2, 'caminho/caminho.jpg')], 0.0,\n",
    "                     Coordinates(x=0.0, y=1.0, z=0.0),\n",
    "                     Coordinates(x=-54.0, y=-0.95, z=0.0),\n",
    "                     Coordinates(x=95.0, y=1.0, z=15.0)),\n",
    "\n",
    "    'gato': Model('gato/gato.obj', [(3, 'gato/gato.jpg')], 90.0,\n",
    "                  Coordinates(x=-1.0, y=0.0, z=0.0),\n",
    "                  Coordinates(x=30.0, y=31.3, z=-3.7),\n",
    "                  Coordinates(x=0.05, y=0.05, z=0.05)),\n",
    "\n",
    "    'lobo': Model('lobo/lobo.obj', [(4, 'lobo/lobo.jpg')], -90.0,\n",
    "                  Coordinates(x=0.0, y=1.0, z=0.0),\n",
    "                  Coordinates(x=0.0, y=-1.0, z=0.0),\n",
    "                  Coordinates(x=12.0, y=12.0, z=12.0)),\n",
    "\n",
    "    'torre': Model('torre/torre.obj', [(5, 'torre/torre.jpg')], 0.0,\n",
    "                   Coordinates(x=0.0, y=0.0, z=1.0),\n",
    "                   Coordinates(x=30.0, y=-4.0, z=0.0),\n",
    "                   Coordinates(x=5.0, y=5.0, z=5.0)),\n",
    "\n",
    "    'arvore': Model('arvore/arvore.obj', [(6, 'arvore/casca.jpg'), (7, 'arvore/folhas.png')], 0.0,\n",
    "                    Coordinates(x=0.0, y=0.0, z=1.0),\n",
    "                    Coordinates(x=0.0, y=-1.0, z=0.0),\n",
    "                    Coordinates(x=7.0, y=7.0, z=7.0)),\n",
    "\n",
    "    'golem': Model('golem/golem.obj', [(8, 'golem/golem.tif')], 90.0,\n",
    "                   Coordinates(x=0.0, y=1.0, z=0.0),\n",
    "                   Coordinates(x=-110.0, y=-1.0, z=0.0),\n",
    "                   Coordinates(x=2.5, y=2.5, z=2.5)),\n",
    "\n",
    "    'gaveta': Model('gaveta/gaveta.obj', [(9, 'gaveta/gaveta.png')], 180.0,\n",
    "                    Coordinates(x=0.0, y=1.0, z=0.0),\n",
    "                    Coordinates(x=33.5, y=28.5, z=2.0),\n",
    "                    Coordinates(x=1.0, y=1.0, z=1.0)),\n",
    "\n",
    "    'caixa': Model('caixa/caixa.obj', [(10, 'caixa/caixa.jpg')], 0.0,\n",
    "                   Coordinates(x=-1.0, y=0.0, z=0.0),\n",
    "                   Coordinates(x=30.0, y=30.0, z=-4.0),\n",
    "                   Coordinates(x=1.2, y=1.2, z=1.2)),\n",
    "}"
   ]
  },
  {
   "cell_type": "markdown",
   "metadata": {},
   "source": [
    "# Definição de Desenhos"
   ]
  },
  {
   "cell_type": "code",
   "execution_count": null,
   "metadata": {},
   "outputs": [],
   "source": [
    "def desenha_modelos(skybox_inc: float,\n",
    "                    lobo_x: float, lobo_z: float, lobo_scale: float, lobo_angle: float,\n",
    "                    arvore_qtd: int, arvore_positions: list[float, float]):\n",
    "\n",
    "    # Desenha de acordo com as especificações de cada modelo\n",
    "    for name, model in models.items():\n",
    "        match(name):\n",
    "            case 'skybox':\n",
    "                model.angle = skybox_inc\n",
    "                model.draw()\n",
    "                \n",
    "            case 'lobo':\n",
    "                model.angle = -90.0 + lobo_angle\n",
    "                model.t = {'x': lobo_x, 'y': -1.0, 'z': lobo_z}\n",
    "                model.s = {'x': 12 + lobo_scale, 'y': 12 + lobo_scale, 'z': 12 + lobo_scale}\n",
    "                model.draw()\n",
    "            \n",
    "            case 'arvore':\n",
    "                for i in range(arvore_qtd):\n",
    "                    model.t = {'x': arvore_positions[i][0], 'y': -1.0, 'z': arvore_positions[i][1]}\n",
    "                    model.draw()\n",
    "            \n",
    "            case _:\n",
    "                model.draw()"
   ]
  },
  {
   "cell_type": "markdown",
   "metadata": {},
   "source": [
    "# Rodando"
   ]
  },
  {
   "cell_type": "markdown",
   "metadata": {},
   "source": [
    "### Uso da GPU"
   ]
  },
  {
   "cell_type": "code",
   "execution_count": null,
   "metadata": {
    "ExecuteTime": {
     "end_time": "2024-05-12T15:53:16.750603Z",
     "start_time": "2024-05-12T15:53:16.742459Z"
    }
   },
   "outputs": [],
   "source": [
    "buffer = glGenBuffers(3)\n",
    "\n",
    "shader_binds = {\n",
    "    'position': 0,\n",
    "    'texture_coord': 1,\n",
    "    'normals': 2\n",
    "}"
   ]
  },
  {
   "cell_type": "code",
   "execution_count": null,
   "metadata": {},
   "outputs": [],
   "source": [
    "def bind_buffer(values_list, name):\n",
    "    size = len(values_list[0])\n",
    "    \n",
    "    values = np.zeros(len(values_list), [(\"position\", np.float32, size)])\n",
    "    values['position'] = values_list\n",
    "    \n",
    "    stride = values.strides[0]\n",
    "    offset = ctypes.c_void_p(0)\n",
    "\n",
    "    glBindBuffer(GL_ARRAY_BUFFER, buffer[shader_binds[name]])\n",
    "    glBufferData(GL_ARRAY_BUFFER, values.nbytes, values, GL_STATIC_DRAW)\n",
    "\n",
    "    glBindAttribLocation(program, shader_binds[name], name)\n",
    "    glEnableVertexAttribArray(shader_binds[name])\n",
    "    glVertexAttribPointer(shader_binds[name], size, GL_FLOAT, False, stride, offset)"
   ]
  },
  {
   "cell_type": "code",
   "execution_count": null,
   "metadata": {},
   "outputs": [],
   "source": [
    "bind_buffer(vertices_list, 'position')\n",
    "bind_buffer(textures_coord_list, 'texture_coord')\n",
    "bind_buffer(normals_list, 'normals')"
   ]
  },
  {
   "cell_type": "markdown",
   "metadata": {},
   "source": [
    "### Eventos"
   ]
  },
  {
   "cell_type": "code",
   "execution_count": null,
   "metadata": {
    "ExecuteTime": {
     "end_time": "2024-05-12T15:53:17.143128Z",
     "start_time": "2024-05-12T15:53:17.135355Z"
    }
   },
   "outputs": [],
   "source": [
    "camera_pos = glm.vec3(25.0,  33.0,  0.0)\n",
    "camera_front = glm.vec3(0.0,  0.0, -1.0)\n",
    "camera_up = glm.vec3(0.0,  1.0,  0.0)\n",
    "\n",
    "trap_mouse = True\n",
    "polygonal_mode = False\n",
    "\n",
    "inc_fov = 0\n",
    "inc_near = 0\n",
    "inc_far = 0\n",
    "inc_view_up = 0\n",
    "\n",
    "x_lobo = 0\n",
    "z_lobo = 0\n",
    "scale_lobo = 0\n",
    "rotate_lobo = 0\n",
    "\n",
    "\n",
    "def check_validity(position):\n",
    "    camera_abs = math.sqrt((position.x ** 2) +\n",
    "                           (position.y ** 2) + (position.z ** 2))\n",
    "    if (camera_abs < 138.0) and position.y >= 0:\n",
    "        return True\n",
    "    else:\n",
    "        return False\n",
    "\n",
    "\n",
    "def key_event(window, key, scancode, action, mods):\n",
    "    global camera_pos, camera_front, camera_up, polygonal_mode, trap_mouse, inc_fov, inc_near, inc_far, camera_up, inc_view_up\n",
    "    global x_lobo, z_lobo, scale_lobo, rotate_lobo\n",
    "\n",
    "    camera_speed = 0.75\n",
    "\n",
    "    if (action == 1 or action == 2):\n",
    "        match key:\n",
    "            case 87:  # W\n",
    "                if check_validity(camera_pos + (camera_speed * camera_front)):\n",
    "                    camera_pos += camera_speed * camera_front\n",
    "\n",
    "            case 83:  # S\n",
    "                if check_validity(camera_pos - (camera_speed * camera_front)):\n",
    "                    camera_pos -= camera_speed * camera_front\n",
    "\n",
    "            case 65:  # A\n",
    "                if check_validity(camera_pos - glm.normalize(glm.cross(camera_front, camera_up)) * camera_speed):\n",
    "                    camera_pos -= glm.normalize(glm.cross(camera_front,\n",
    "                                                          camera_up)) * camera_speed\n",
    "\n",
    "            case 68:  # D\n",
    "                if check_validity(camera_pos + glm.normalize(glm.cross(camera_front, camera_up)) * camera_speed):\n",
    "                    camera_pos += glm.normalize(glm.cross(camera_front,\n",
    "                                                          camera_up)) * camera_speed\n",
    "\n",
    "            case 80:  # P\n",
    "                if action != 2:\n",
    "                    polygonal_mode = not polygonal_mode\n",
    "\n",
    "            case 77:  # M\n",
    "                if action != 2:\n",
    "                    trap_mouse = not trap_mouse\n",
    "\n",
    "            case 265:  # ArrowUp\n",
    "                x_lobo -= 0.5\n",
    "\n",
    "            case 264:  # ArrowDown\n",
    "                x_lobo += 0.5\n",
    "\n",
    "            case 263:  # ArrowLeft\n",
    "                z_lobo += 0.25\n",
    "\n",
    "            case 262:  # ArrowRight\n",
    "                z_lobo -= 0.25\n",
    "\n",
    "            case 90:  # Z\n",
    "                scale_lobo += 0.5\n",
    "\n",
    "            case 88:  # X\n",
    "                scale_lobo -= 0.5\n",
    "\n",
    "            case 67:  # C\n",
    "                rotate_lobo -= 3\n",
    "\n",
    "            case 86:  # V\n",
    "                rotate_lobo += 3\n",
    "\n",
    "\n",
    "first_mouse = True\n",
    "yaw = -33.7\n",
    "pitch = 5.9\n",
    "last_x = largura / 2\n",
    "last_y = altura / 2\n",
    "\n",
    "\n",
    "def mouse_event(window, xpos, ypos):\n",
    "    global first_mouse, camera_front, yaw, pitch, last_x, last_y\n",
    "\n",
    "    if first_mouse:\n",
    "        last_x = xpos\n",
    "        last_y = ypos\n",
    "        first_mouse = False\n",
    "\n",
    "    xoffset = xpos - last_x\n",
    "    yoffset = last_y - ypos\n",
    "    last_x = xpos\n",
    "    last_y = ypos\n",
    "\n",
    "    sensitivity = 0.3\n",
    "    xoffset *= sensitivity\n",
    "    yoffset *= sensitivity\n",
    "\n",
    "    yaw += xoffset\n",
    "    pitch += yoffset\n",
    "\n",
    "    if pitch >= 89.9:\n",
    "        pitch = 89.9\n",
    "    if pitch <= -89.9:\n",
    "        pitch = -89.9\n",
    "\n",
    "    front = glm.vec3()\n",
    "    front.x = math.cos(glm.radians(yaw)) * math.cos(glm.radians(pitch))\n",
    "    front.y = math.sin(glm.radians(pitch))\n",
    "    front.z = math.sin(glm.radians(yaw)) * math.cos(glm.radians(pitch))\n",
    "    camera_front = glm.normalize(front)\n",
    "\n",
    "\n",
    "glfw.set_key_callback(window, key_event)\n",
    "glfw.set_cursor_pos_callback(window, mouse_event)"
   ]
  },
  {
   "cell_type": "markdown",
   "metadata": {},
   "source": [
    "### Execução Final"
   ]
  },
  {
   "cell_type": "code",
   "execution_count": null,
   "metadata": {
    "ExecuteTime": {
     "end_time": "2024-05-12T15:53:17.217424Z",
     "start_time": "2024-05-12T15:53:17.145857Z"
    }
   },
   "outputs": [],
   "source": [
    "glfw.show_window(window)\n",
    "glfw.set_cursor_pos(window, last_x, last_y)"
   ]
  },
  {
   "cell_type": "code",
   "execution_count": null,
   "metadata": {
    "ExecuteTime": {
     "end_time": "2024-05-12T15:53:32.662301Z",
     "start_time": "2024-05-12T15:53:17.220498Z"
    }
   },
   "outputs": [],
   "source": [
    "glEnable(GL_DEPTH_TEST)\n",
    "glEnable(GL_ALPHA_TEST)\n",
    "glAlphaFunc(GL_GREATER, 0.1)\n",
    "\n",
    "rotacao_inc = 0\n",
    "while not glfw.window_should_close(window):\n",
    "    glfw.poll_events()\n",
    "\n",
    "    glClear(GL_COLOR_BUFFER_BIT | GL_DEPTH_BUFFER_BIT)\n",
    "\n",
    "    glClearColor(1.0, 1.0, 1.0, 1.0)\n",
    "\n",
    "    if polygonal_mode == True:\n",
    "        glPolygonMode(GL_FRONT_AND_BACK, GL_LINE)\n",
    "    else:\n",
    "        glPolygonMode(GL_FRONT_AND_BACK, GL_FILL)\n",
    "\n",
    "    if trap_mouse == True:\n",
    "        glfw.set_input_mode(window, glfw.CURSOR, glfw.CURSOR_DISABLED)\n",
    "    else:\n",
    "        glfw.set_input_mode(window, glfw.CURSOR, glfw.CURSOR_NORMAL)\n",
    "\n",
    "    rotacao_inc += 0.1\n",
    "\n",
    "    arvores = []\n",
    "    value = 5\n",
    "    for i in range(7):\n",
    "        arvores.append((value - 20*i, 20))\n",
    "        arvores.append((value - 20*i, -20))\n",
    "        arvores.append((value - 20*i, 40))\n",
    "        arvores.append((value - 20*i, -40))\n",
    "        arvores.append((value - 20*i, 60))\n",
    "        arvores.append((value - 20*i, -60))\n",
    "\n",
    "    desenha_modelos(rotacao_inc, x_lobo, z_lobo, scale_lobo,\n",
    "                    rotate_lobo, len(arvores), arvores)\n",
    "\n",
    "    mat_view = view()\n",
    "    loc_view = glGetUniformLocation(program, \"view\")\n",
    "\n",
    "    glUniformMatrix4fv(loc_view, 1, GL_TRUE, mat_view)\n",
    "\n",
    "    mat_projection = projection()\n",
    "    loc_projection = glGetUniformLocation(program, \"projection\")\n",
    "    glUniformMatrix4fv(loc_projection, 1, GL_TRUE, mat_projection)\n",
    "\n",
    "    glfw.swap_buffers(window)\n",
    "\n",
    "glfw.terminate()"
   ]
  }
 ],
 "metadata": {
  "kernelspec": {
   "display_name": "Python 3 (ipykernel)",
   "language": "python",
   "name": "python3"
  },
  "language_info": {
   "codemirror_mode": {
    "name": "ipython",
    "version": 3
   },
   "file_extension": ".py",
   "mimetype": "text/x-python",
   "name": "python",
   "nbconvert_exporter": "python",
   "pygments_lexer": "ipython3",
   "version": "3.12.2"
  }
 },
 "nbformat": 4,
 "nbformat_minor": 2
}
